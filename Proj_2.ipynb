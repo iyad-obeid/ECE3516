{
 "cells": [
  {
   "cell_type": "markdown",
   "id": "60e77db7-da12-4835-b2e9-de33cb823d45",
   "metadata": {
    "jp-MarkdownHeadingCollapsed": true
   },
   "source": [
    "## Project 2\n",
    "\n",
    "Project 2 is an extention of the Week 3 Lab.\n",
    "\n",
    "In Week 3, you built a simple RC circuit to try filtering 60Hz noise from an EKG signal. The RC filter was a simple but poor choice for filtering. In this project we'll build a better filter by double or triple filtering the signal (second or third order filtering). You will design a circuit, simulate it in Multisim, and build it on your breadboard. Follow these steps.\n",
    "\n",
    "**Step 1:** Use the [myFFT.py](./files/myFFT.py) function to study the frequency content of the [EKG data](./files/ecg_data.txt) and determine what you think a good filter cutoff frequency would be.\n",
    "\n",
    "**Step 2:** Create the _transfer function_ for a second order lowpass filter with the cutoff frequency determined in Step 1. I recommend using\n",
    "either the `butter` or `cheby1` functions in `SciPy`. The transfer function is just the mathematical description of a theoretical filter.\n",
    "\n",
    "**Step 3:** Select values for $R$, $Rf$, and $C$ for the filter below in order to embody the filter that you planned out in Step 2.\n",
    "\n",
    "<img src=\"./imgs/fig008.png\" width=400 style=\"display: block; margin: auto;\"/>\n",
    "\n",
    "This is a _Sallen Key_ filter architecture. Its transfer function is $$\\frac{k\\omega_c^2}{s^2 + d\\omega_cs + \\omega_c^2}$$ where:\n",
    "\n",
    "$$\\omega_c = 1 / RC$$\n",
    "$$k = 3-d$$\n",
    "$$k = 1+Rf/R$$\n",
    "\n",
    "**Step 4:** Build your circuit in Multisim and use the Piecewise Linear (PWL) voltage source to simulate filtering your EKG signal.\n",
    "\n",
    "**Step 5:** Build the circuit on your breadboard and confirm that the 60Hz noise has been reduced.\n",
    "\n",
    "**Questions:** How can you confirm that your physical circuit has the right cutoff frequency? Can you find a way of demonstrating that your circuit is a second order filter and not a first order one?\n",
    "\n",
    "**What to Turn In:** This will be a check-off style project. You'll show me your code and I'll ask your a series of questions to see how well you understand your own work.\n",
    "\n",
    "**Extra Credit:** Build a third order circuit using the architecture below. Again, use the `butter` or `cheby1` functions in `SciPy` to create the transfer function. \n",
    "\n",
    "<img src=\"./imgs/fig009.png\" width=400 style=\"display: block; margin: auto;\"/>\n",
    "\n",
    "The overall circuit equation is given by the product of the Sallen Key filter and the RC filter, so <br><br>\n",
    "\n",
    "$$\\frac{k\\omega_c^2}{s^2 + d\\omega_cs + \\omega_c^2} \\cdot \\frac{1}{sR_2C + 1}$$"
   ]
  }
 ],
 "metadata": {
  "kernelspec": {
   "display_name": "Python 3 (ipykernel)",
   "language": "python",
   "name": "python3"
  },
  "language_info": {
   "codemirror_mode": {
    "name": "ipython",
    "version": 3
   },
   "file_extension": ".py",
   "mimetype": "text/x-python",
   "name": "python",
   "nbconvert_exporter": "python",
   "pygments_lexer": "ipython3",
   "version": "3.13.2"
  }
 },
 "nbformat": 4,
 "nbformat_minor": 5
}
