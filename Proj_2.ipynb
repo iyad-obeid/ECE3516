{
 "cells": [
  {
   "cell_type": "markdown",
   "id": "60e77db7-da12-4835-b2e9-de33cb823d45",
   "metadata": {},
   "source": [
    "## Project 2\n",
    "\n",
    "Project 2 is an extention of the Week 3 Lab.\n",
    "\n",
    "In Week 3, you built a simple RC circuit to try filtering 60Hz noise from an EKG signal. The RC filter was a simple but poor choice for filtering. In this project we'll build a better filter by double or triple filtering the signal (second or third order filtering). You will design a circuit, simulate it in Multisim, and build it on your breadboard. Follow these steps.\n",
    "\n",
    "**Step 1** Use the `myFFT.py` function to study the frequency content of the EKG data and determine what you think a good filter cutoff frequency would be.\n",
    "\n",
    "**Step 2** Create the _transfer function_ for a second order lowpass filter with the cutoff frequency determined in Step 1. I recommend using\n",
    "either the `butter` or `cheby1` functions in `SciPy`. The transfer function is just the mathematical description of a theoretical filter.\n",
    "\n",
    "**Step 3** Design a physical circuit that will embody the filter that you planned out in Step 2. You should use the circuit architecture shown here. \n",
    "<img src=\"./imgs/fig008.png\" width=400 />\n",
    "\n",
    "Its transfer function is $$\\frac{k\\omega_c^2}{s^2 + d\\omega_cs + \\omega_c^2}$$ where:\n",
    "- $\\omega_c = 1/2\\pi RC$\n",
    "- $k = 3-d$\n",
    "- $k = 1+Rf/R$\n",
    "\n",
    "**Questions:** \n",
    "\n",
    "**What to Turn In:** This will be a check-off style project. You'll show me your code and I'll ask your a series of questions to see how well you understand your own work."
   ]
  }
 ],
 "metadata": {
  "kernelspec": {
   "display_name": "Python 3 (ipykernel)",
   "language": "python",
   "name": "python3"
  },
  "language_info": {
   "codemirror_mode": {
    "name": "ipython",
    "version": 3
   },
   "file_extension": ".py",
   "mimetype": "text/x-python",
   "name": "python",
   "nbconvert_exporter": "python",
   "pygments_lexer": "ipython3",
   "version": "3.11.4"
  }
 },
 "nbformat": 4,
 "nbformat_minor": 5
}
