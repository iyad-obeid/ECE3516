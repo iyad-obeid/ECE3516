{
 "cells": [
  {
   "cell_type": "markdown",
   "id": "1de9a397-838b-46c4-adfb-a8ed5aa4e3bb",
   "metadata": {},
   "source": [
    "## Week 4\n",
    "\n",
    "For each of the six images below, derive the Fourier Transform by hand and plot the results. You can use the code we produced in class to determine for yourself whether your solutions are correct. Note that signal $x_3(t) = \\sin(t)$ for $-\\pi < t < \\pi$ and $x_6(t) = t^2$ for $-1<t<1$.\n",
    "\n",
    "<img src=\"./imgs/fig007.png\" width=800 />"
   ]
  }
 ],
 "metadata": {
  "kernelspec": {
   "display_name": "Python 3 (ipykernel)",
   "language": "python",
   "name": "python3"
  },
  "language_info": {
   "codemirror_mode": {
    "name": "ipython",
    "version": 3
   },
   "file_extension": ".py",
   "mimetype": "text/x-python",
   "name": "python",
   "nbconvert_exporter": "python",
   "pygments_lexer": "ipython3",
   "version": "3.11.4"
  }
 },
 "nbformat": 4,
 "nbformat_minor": 5
}
