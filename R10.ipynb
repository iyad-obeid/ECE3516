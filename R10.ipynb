{
 "cells": [
  {
   "cell_type": "markdown",
   "metadata": {},
   "source": [
    "## Week 10\n",
    "\n",
    "**Problem 1**  \n",
    "For each of the following, determine the resulting discrete-time frequency\n",
    "$\\Omega$ and discrete-time period $T$. Remember, $0 \\le \\Omega \\le \\pi$.\n",
    "\n",
    "- $f=25$ Hz sampled at $F_s=250$ Hz\n",
    "- $f=25$ Hz sampled at $F_s=125$ Hz\n",
    "- $f=25$ Hz sampled at $F_s=75$ Hz\n",
    "- $f=25$ Hz sampled at $F_s=50$ Hz\n",
    "- $f=25$ Hz sampled at $F_s=40$ Hz\n",
    "\n",
    "**Problem 2**  \n",
    "For each of the following, determine the corresponding continuous time\n",
    "frequency.\n",
    "\n",
    "- $\\Omega = 0.1\\pi$ rads/sample and $F_s = 10$ Hz\n",
    "- $\\Omega = 0.5\\pi$ rads/sample and $F_s = 25$ Hz\n",
    "- $\\Omega = 0.9\\pi$ rads/sample and $F_s = 100$ Hz\n",
    "- $\\Omega = 1.25\\pi$ rads/sample and $F_s = 100$ Hz\n",
    "\n",
    "**Problem 3**  \n",
    "Plot the magnitude DTFT for each following discrete-time signals: \n",
    "\n",
    "- $x[n] = [1, 1, 1, 1]$\n",
    "- $x[n] = [1, 0, 0, 1]$\n",
    "- $x[n] = \\cos(0.35\\pi n)\\ \\textrm{where } n=0,1,\\ldots,100$"
   ]
  }
 ],
 "metadata": {
  "language_info": {
   "name": "python"
  }
 },
 "nbformat": 4,
 "nbformat_minor": 2
}
