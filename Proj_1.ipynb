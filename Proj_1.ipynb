{
 "cells": [
  {
   "cell_type": "markdown",
   "id": "60e77db7-da12-4835-b2e9-de33cb823d45",
   "metadata": {},
   "source": [
    "## Project 1\n",
    "\n",
    "Project 1 is an extention of the Week 2 Lab.\n",
    "\n",
    "For this assignment, you will be uncompressing audio clips that I have compressed using compression algorithms of my own invention. The compression algorithms works by breaking the audio clip into _windows_, and then representing each window as a sum of cosines. You will be given data that correspond to a list of frequencies and their associated complex $A$ values. Using these data, you will uncompress the audio by rebuilding the signal out of cosines.\n",
    "\n",
    "I used two different methods to try compressing the audio. The steps I did are as follows. Note that in all cases, the sampling frequency is $F_s = 44.1$kHz.\n",
    "\n",
    "**Method 1**  \n",
    "- First I divided the signal into 50ms windows (which corresponds to 0.050 seconds/window $\\times$ 44100 samples/second = 2205 samples/window)\n",
    "- Then for each window, I determined the top 30 energy-containing frequencies. For each window, I stored those 30 frequencies (in Hertz) along with their corresponding 30 complex A values.\n",
    "\n",
    "**Method 2**  \n",
    "- First I divided the signal into 50ms windows (which corresponds to 0.050 seconds/window $\\times$ 44100 samples/second = 2205 samples/window)\n",
    "- Then for each window, I found the energy at 30 different frequencies, evenly spaced between 100 and 2000Hz. The same 30 frequencies were evaluated in each window. For each window, I stored the corresponding 30 complex A values. I didn't bother saving the frequencies because they just take up space and it is trivial to recompute them in the decompression program.\n",
    "\n",
    "I have also tried an **overlap** modification that works as follows. The compression methods work the same except that each 50ms window overlaps the previous one by 45ms. So if Window 1 covers $0<t<50$ms, then Window 2 covers $5<t<55$ms and so on. That way each moment in time is partially represented by multiple A values.\n",
    "\n",
    "Your task is undo this process in order to *decompress* the audio. The files to decompress are:\n",
    "- audio_1_method_1_no_overlap.npz\n",
    "- audio_1_method_2_no_overlap.npz\n",
    "- audio_2_method_1_no_overlap.npz\n",
    "- audio_2_method_2_no_overlap.npz\n",
    "- audio_1_method_1_w_overlap.npz\n",
    "- audio_1_method_2_w_overlap.npz\n",
    "- audio_2_method_1_w_overlap.npz\n",
    "- audio_2_method_2_w_overlap.npz\n",
    "\n",
    "Confirm your reconstruction works by playing back the audio signals. To do so, first normalize the signal so it is on the range (-1,1):\n",
    "\n",
    "`signal = signal / np.max(np.abs(signal))`\n",
    "\n",
    "and then play back. I used the `sounddevice` library (which I had to install into my environment - go to the Anaconda Launcher and work out how to install a new library). I did playback with:\n",
    "\n",
    "`import sounddevice as sd`  \n",
    "`sd.play(signal)`\n",
    "\n",
    "**Questions:** Which compression method sounds better? Why? Which audio signal sounds better when reconstructed? Why? (think about how the qualties of the audio signals fit with the way the compression algorithms work.) What is the compression ratio for each Method?\n",
    "\n",
    "**What to Turn In:** This will be a check-off style project. You'll show me your code and I'll ask your a series of questions to see how well you understand your own work."
   ]
  }
 ],
 "metadata": {
  "kernelspec": {
   "display_name": "Python 3 (ipykernel)",
   "language": "python",
   "name": "python3"
  },
  "language_info": {
   "codemirror_mode": {
    "name": "ipython",
    "version": 3
   },
   "file_extension": ".py",
   "mimetype": "text/x-python",
   "name": "python",
   "nbconvert_exporter": "python",
   "pygments_lexer": "ipython3",
   "version": "3.11.4"
  }
 },
 "nbformat": 4,
 "nbformat_minor": 5
}
