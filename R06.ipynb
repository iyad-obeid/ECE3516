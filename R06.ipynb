{
 "cells": [
  {
   "cell_type": "markdown",
   "id": "5a00bc54-78ab-4257-96d2-923624fe2f6c",
   "metadata": {},
   "source": [
    "## Week 6\n",
    "\n",
    "Consider a _transfer function_ $H(j\\omega)$ whose magnitude and phase plots are shown below:\n",
    "\n",
    "<img src=\"./imgs/fig012.png\" width=800 />\n",
    "\n",
    "Answer the following questions:\n",
    "\n",
    "1. Estimate the cutoff frequency\n",
    "2. Estimate the filter magnitude and phase at $f=300$ Hz\n",
    "3. Estimate the filter magnitude and phase at $f=2000$ Hz\n",
    "4. Estimate (equation and plot) the system output when the input is a unit step\n",
    "5. Estimate (equation and plot) the system output when the input is an impulse\n",
    "6. Give an expression for the output when the input is $x(t)=\\cos(2\\pi 1000t)$\n",
    "7. Give an expression for the output when the input is $x(t)=2 + 3\\cos(2\\pi 10^4t)$\n",
    "8. Give an expression for the output when the input is $x(t)=5\\cos(2\\pi 100t) + 2\\cos(2\\pi 2000t)$"
   ]
  }
 ],
 "metadata": {
  "kernelspec": {
   "display_name": "Python 3 (ipykernel)",
   "language": "python",
   "name": "python3"
  },
  "language_info": {
   "codemirror_mode": {
    "name": "ipython",
    "version": 3
   },
   "file_extension": ".py",
   "mimetype": "text/x-python",
   "name": "python",
   "nbconvert_exporter": "python",
   "pygments_lexer": "ipython3",
   "version": "3.9.21"
  }
 },
 "nbformat": 4,
 "nbformat_minor": 5
}
