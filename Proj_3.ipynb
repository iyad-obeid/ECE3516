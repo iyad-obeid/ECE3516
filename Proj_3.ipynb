{
 "cells": [
  {
   "cell_type": "markdown",
   "id": "d604d0c0-e4b0-456b-827e-7d9615cb1440",
   "metadata": {},
   "source": [
    "## Project 3\n",
    "\n",
    "The purpose of this assignment is to decode the message hidden in an audio signal. The audio\n",
    "signal contains a series of tones, each of duration 50ms, and each representing one ASCII character.\n",
    "Each 50ms tone will contain one or more cosines at eight different frequencies: 400, 450, 500, 550,\n",
    "600, 650, 700, and 750Hz. The presence or absence of each frequency can be thought of as a bit.\n",
    "Since there are eight frequencies, the tone therefore represents an 8-bit number; the value of that\n",
    "number will map to an ASCII character.\n",
    "\n",
    "### Part 1\n",
    "Confused? Read on: Start by loading the data file called [message_1.npz](./files/message_1.npz). It contains an audio\n",
    "signal named `tone` and a sampling frequency named `Fs`. \n",
    "\n",
    "In order to decode the message, follow these steps:\n",
    "\n",
    "1. Isolate the first 50ms of the signal\n",
    "2. Use the [myFFT](./files/myFFT.py) function to determine and plot the frequency content of the tone\n",
    "3. Determine the presence or absence of each of the eight target frequencies\n",
    "4. Look up the corresponding 8-bit number on an ASCII table to determine the character.\n",
    "5. Repeat for the remaining characters.\n",
    "\n",
    "ASCII is a standard code so any table will be fine, but this one seems nice: [https://www.asciitable.com](https://www.asciitable.com)\n",
    "\n",
    "Again, the eight frequencies used are: 400, 450, 500, 550, 600, 650, 700, and 750Hz. These frequencies \n",
    "correspond in order from bit seven (most signiffcant bit) to bit zero (least signiffcant bit). For\n",
    "example, the character `M` has ASCII value 77 which corresponds to bit sequence\n",
    "[ 0 1 0 0 1 1 0 1 ]. Therefore we would expect its tone to contain energy at 450, 600, 650, and\n",
    "750Hz.\n",
    "\n",
    "### Part 2\n",
    "Although this messages can be decoded by manually inspecting\n",
    "the Fourier Transform of each 50ms window, it would be far more efficient if you had an\n",
    "automated function that could do it all for you. Write a function whose only input is the tone.\n",
    "You can assume the window duration will always be 50ms and the sampling frequency will always\n",
    "be 5000 samples per second. Your function should print the resulting text message. \n",
    "Test your function on message_1.npz to make sure you get the\n",
    "same answer as you did before, and then test with [message_2.npz](./files/message_2.npz) which is _way_ too long of a tone to\n",
    "realistically decode by hand.\n",
    "\n",
    "### Extra Credit\n",
    "You'll notice that the code for Part 2 runs fairy slowly (message 2 took almost 48 seconds to decode on my laptop). What makes it run so slowly? Can you make it run faster? My optimized version runs in about 0.1 seconds on message 2.\n",
    "\n",
    "### Questions\n",
    "Each character is represented by 50ms of audio, which is equivalent to a data rate of just 20 characters per second. If we could use shorter windows, we could have a higher data rate. What do you think is the best data rate we can achieve? Justify your answer."
   ]
  }
 ],
 "metadata": {
  "kernelspec": {
   "display_name": "Python 3 (ipykernel)",
   "language": "python",
   "name": "python3"
  },
  "language_info": {
   "codemirror_mode": {
    "name": "ipython",
    "version": 3
   },
   "file_extension": ".py",
   "mimetype": "text/x-python",
   "name": "python",
   "nbconvert_exporter": "python",
   "pygments_lexer": "ipython3",
   "version": "3.11.4"
  }
 },
 "nbformat": 4,
 "nbformat_minor": 5
}
