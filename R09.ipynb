{
 "cells": [
  {
   "cell_type": "markdown",
   "metadata": {},
   "source": [
    "## Week 9\n",
    "\n",
    "For each of the pairs of $x(t)$ (blue) and $h(t)$ (orange) below, convolve them to find $y(t)$.\n",
    "\n",
    "<img src=\"./imgs/fig017.png\" width=800 />\n"
   ]
  }
 ],
 "metadata": {
  "language_info": {
   "name": "python"
  }
 },
 "nbformat": 4,
 "nbformat_minor": 2
}
