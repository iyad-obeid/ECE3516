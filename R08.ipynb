{
 "cells": [
  {
   "attachments": {},
   "cell_type": "markdown",
   "id": "4180d087-a573-4190-a30a-853d5f422626",
   "metadata": {},
   "source": [
    "## Week 8\n",
    "\n",
    "One way of describing a second order system is with its characteristic equation\n",
    "\n",
    "$$s^2 + 2\\zeta\\omega_os + \\omega_o^2$$\n",
    "\n",
    "If $0<\\zeta<1$, the system has a pair of complex conjugate roots and is said to be underdamped.\n",
    "Underdamped systems tend to oscillate before settling down; the closer $\\zeta$ is to zero, the more it\n",
    "oscillates. For an underdamped system, the roots of the equation (which are the same as the system's\n",
    "poles) are at\n",
    "\n",
    "$$s_{1,2} = -\\zeta\\omega_o \\pm j\\omega_o\\sqrt{1-\\zeta^2}$$\n",
    "\n",
    "The system's time constant $\\tau$ is the reciprocal of the real part of the root, \n",
    "$\\tau= \\frac{1}{\\zeta\\omega_o}$. The system's oscillation frequency is the imaginary part of the root,\n",
    "$\\omega_o\\sqrt{1-\\zeta^2}$,  in units of radians per second).\n",
    "\n",
    "Also, recall that we use the rule of thumb that a system requires five time constants to\n",
    "settle down. We also recall that $\\omega = 2\\pi f = 2\\pi=T$ where $T$ is the period of the signal.\n",
    "\n",
    "**Question 1:** Using the explanation above to guide you, estimate $\\zeta$ and $\\omega_o$ for the system whose\n",
    "step response is shown here:\n",
    "\n",
    "<img src=\"./imgs/fig016.png\" width=800 />\n",
    "\n",
    "**Question 2:** Sketch the pole-zero diagram for the system.\n",
    "\n",
    "**Question 3:** Write out the transfer function for the system.\n",
    "\n",
    "**Question 4:** Use Python to generate the transfer function (`scipy.signal.bode`) and step response (`scipy.signal.step`) for the system.\n",
    "\n",
    "**Question 5:** Keeping $\\omega_o$ as before, redraw the step and bode plots for $\\zeta=0.4$ and $\\zeta=0.8$. How does damping ($\\ \\zeta\\ $) affect the system?\n",
    "\n",
    "**Question 6:** Keeping $\\zeta$ as in the original system, redraw the step and bode plots for $\\omega_o=100\\textrm{k}$ and $\\omega_o=3\\textrm{k}$ rads/sec. How does the natural oscillation frequency ($\\omega_o$) affect the system?\n"
   ]
  }
 ],
 "metadata": {
  "kernelspec": {
   "display_name": "Python 3 (ipykernel)",
   "language": "python",
   "name": "python3"
  },
  "language_info": {
   "codemirror_mode": {
    "name": "ipython",
    "version": 3
   },
   "file_extension": ".py",
   "mimetype": "text/x-python",
   "name": "python",
   "nbconvert_exporter": "python",
   "pygments_lexer": "ipython3",
   "version": "3.13.2"
  }
 },
 "nbformat": 4,
 "nbformat_minor": 5
}
