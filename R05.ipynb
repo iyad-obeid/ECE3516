{
 "cells": [
  {
   "cell_type": "markdown",
   "id": "e83eec2c-d0c8-4029-beb7-913881fef1e4",
   "metadata": {},
   "source": [
    "## Week 5\n",
    "\n",
    "### Part 1\n",
    "For each of the three images below:\n",
    "- [a] compute the Fourier Transform by hand\n",
    "- [b] plot the Fourier Transform (magnitude) as a function of frequency\n",
    "- [c] validate that your answer to [a] is correct by rebuilding the signal out of sine waves\n",
    "\n",
    "<img src=\"./imgs/fig010.png\" width=800 />\n",
    "\n",
    "Be prepared to answer the following:\n",
    "- What effect does adding copies of the signal have?\n",
    "- If there were infinitely many copies of the signal, what would happen to the Fourier Transform plots?\n"
   ]
  },
  {
   "cell_type": "markdown",
   "id": "30a4c22b-a537-4e9f-98a2-70e816bf33a4",
   "metadata": {},
   "source": [
    "### Part 2\n",
    "For each of the four images below, find and plot the Fourier Transform (magnitude).\n",
    "<img src=\"./imgs/fig011.png\" width=600 />"
   ]
  },
  {
   "cell_type": "markdown",
   "id": "3f1e6530-0c4e-4c41-8b4e-d56453acbca5",
   "metadata": {},
   "source": [
    "### Part 3\n",
    "Using a sampling frequency of $F_s = 10\\textrm{k}$ samples per second, create the signal $x(t) = \\cos(2\\pi 10t) + \\cos(2\\pi 12t)$ with a duration of 10 seconds. Use [myFFT.py](./files/myFFT.py) to plot the frequency response and confirm that you see peaks and 10 and 12 Hz.\n",
    "\n",
    "Repeat the process but reduce the signal duration. What happens to the Fourier Transform as the duration gets smaller? What is the shortest signal duration where you can still differentiate the two peaks?"
   ]
  }
 ],
 "metadata": {
  "kernelspec": {
   "display_name": "Python 3 (ipykernel)",
   "language": "python",
   "name": "python3"
  },
  "language_info": {
   "codemirror_mode": {
    "name": "ipython",
    "version": 3
   },
   "file_extension": ".py",
   "mimetype": "text/x-python",
   "name": "python",
   "nbconvert_exporter": "python",
   "pygments_lexer": "ipython3",
   "version": "3.11.4"
  }
 },
 "nbformat": 4,
 "nbformat_minor": 5
}
