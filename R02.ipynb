{
 "cells": [
  {
   "cell_type": "markdown",
   "id": "60e77db7-da12-4835-b2e9-de33cb823d45",
   "metadata": {},
   "source": [
    "## Week 2\n",
    "This week there are two tasks you need to address.\n",
    "\n",
    "- Task 1: [Audio Decompression](#audio)\n",
    "- Task 2: [Basic RC Filter](#rcfilter)\n",
    "\n",
    "\n",
    "<a id=\"audio\"></a>\n",
    "### Audio Decompression\n",
    "I have invented a mediocre audio compression algorithm that works as follows:\n",
    "\n",
    "- Take the first 10ms of audio\n",
    "- Determine which 20 frequencies have the highest power\n",
    "- Store the value of those 20 frequencies (in Hertz) along with the corresponding complex $A$ value for each frequency.\n",
    "- Repeat for every 10ms of the audio clip\n",
    "\n",
    "Your task is undo this process in order to *decompress* the audio.\n",
    "\n",
    "You are given a file named [`compressed_audio_1.npz`](./files/compressed_audio_1.npz) which you can load using the NumPy command `data = np.load('compressed_audio_1.npz')`. The result will be a dictionary that contains four elements:\n",
    "- `samplerate`: the number of samples per second (16000)\n",
    "- `nSamplesPerWin`: the number of samples per 10ms window (160)\n",
    "- `freqs`: an array of size 1370 x 20 that stores the 20 peak frequencies in each of the 1370 time windows\n",
    "- `A`: an array of size 1370 x 20 that stores the coorespond complex A values for each of the time windows\n",
    "\n",
    "Write a Python program that loops over all 1370 windows. For each window, generate a sum of the 20 cosines described in `A` and `freqs`. The result should be a 1d array with 219200 samples.\n",
    "\n",
    "Confirm your reconstruction works by playing back the audio signal. To do so, first normalize the signal so it is on the range (-1,1):\n",
    "\n",
    "`signal = signal / np.max(np.abs(signal))`\n",
    "\n",
    "and then play back. I used the `sounddevice` library (which I had to install into my environment - go to the Anaconda Launcher and work out how to install a new library). I did playback with:\n",
    "\n",
    "`import sounddevice as sd`  \n",
    "`sd.play(signal)`\n",
    "\n",
    "Question: Are both amplitude and phase important for audio playback? Explain and/or demonstrate.\n",
    "\n",
    "<a id=\"rcfilter\"></a>\n",
    "## Basic RC Filter\n",
    "For this in-class assignment, you need to build an RC lowpass circuit with a cutoff frequency close to 3kHz. You need to come up with two different ways to prove to me that your circuit meets this criteria with hardware AND show me how you chose the values of your resistors and capacitors.\n",
    "\n",
    "Note: you can use as many resistors and capacitors as you want, but the equivalent circuit should be just one Req and one Ceq.\n"
   ]
  }
 ],
 "metadata": {
  "kernelspec": {
   "display_name": "Python 3 (ipykernel)",
   "language": "python",
   "name": "python3"
  },
  "language_info": {
   "codemirror_mode": {
    "name": "ipython",
    "version": 3
   },
   "file_extension": ".py",
   "mimetype": "text/x-python",
   "name": "python",
   "nbconvert_exporter": "python",
   "pygments_lexer": "ipython3",
   "version": "3.11.4"
  }
 },
 "nbformat": 4,
 "nbformat_minor": 5
}
