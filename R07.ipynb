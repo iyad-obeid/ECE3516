{
 "cells": [
  {
   "cell_type": "markdown",
   "id": "5a00bc54-78ab-4257-96d2-923624fe2f6c",
   "metadata": {},
   "source": [
    "## Week 7\n",
    "\n",
    "**Problem 1**  \n",
    "Consider a filter whose _step response_ is shown here:\n",
    "\n",
    "<img src=\"./imgs/fig013.png\" width=800 />\n",
    "\n",
    "Solve for an equation describing the system's response to each of the following input signals:\n",
    "- $x(t) = \\cos(2\\pi\\cdot100\\cdot t)$\n",
    "- $x(t) = \\cos(2\\pi\\cdot1\\textrm{kHz}\\cdot t)$\n",
    "- $x(t) = \\cos(2\\pi\\cdot5\\textrm{kHz}\\cdot t)$\n",
    "- $x(t) = 1$\n",
    "- $x(t) = \\delta(t)$\n",
    "- $x(t) = 2.4\\delta(t-6\\textrm{ms})$"
   ]
  },
  {
   "cell_type": "markdown",
   "id": "2497194d-b379-44d1-b282-aa2628036308",
   "metadata": {},
   "source": [
    "**Problem 2**  \n",
    "For the two circuits below, solve for:\n",
    "- The transfer function $H(\\omega)$\n",
    "- The magnitude of the transfer function - interpret it to determine what kind of filter it is\n",
    "- Explain intuitively why your answer to the previous question has to make sense\n",
    "- The phase of the transfer function - specifically what is the phase at low and high frequencies $\\omega$?\n",
    "\n",
    "_Circuit 1_  \n",
    "<img src=\"./imgs/fig014.png\" width=200 />\n",
    "\n",
    "<br><br>\n",
    "_Circuit 2_  \n",
    "<img src=\"./imgs/fig015.png\" width=250 />"
   ]
  }
 ],
 "metadata": {
  "kernelspec": {
   "display_name": "Python 3 (ipykernel)",
   "language": "python",
   "name": "python3"
  },
  "language_info": {
   "codemirror_mode": {
    "name": "ipython",
    "version": 3
   },
   "file_extension": ".py",
   "mimetype": "text/x-python",
   "name": "python",
   "nbconvert_exporter": "python",
   "pygments_lexer": "ipython3",
   "version": "3.13.2"
  }
 },
 "nbformat": 4,
 "nbformat_minor": 5
}
