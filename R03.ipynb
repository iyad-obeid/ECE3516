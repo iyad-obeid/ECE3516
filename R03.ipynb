{
 "cells": [
  {
   "cell_type": "markdown",
   "id": "0db2f767-f811-4c38-b037-74414ef3e9cf",
   "metadata": {},
   "source": [
    "## Week 3\n",
    "\n",
    "The goal of this week's assignment is to express each of the following signals as sums of sines and cosines. For each signal:\n",
    "\n",
    "- Find the main period, the main frequency in Hertz, and the main frequency in rads/sec\n",
    "- Write an expression for the frequency (in rads/sec) of the nth harmonic frequency\n",
    "- Solve for coefficients $a_n$ and $b_n$ such that $x(t) = a_0 + \\sum_{n=1}^\\infty a_n\\cos(\\omega_n t) + b_n\\sin(\\omega_n t)$\n",
    "- Prove that your coefficients are correct using a loop to sum over many values of $n$ and plotting the resulting signal. It should look similar to $x(n)$.\n",
    "- Solve for the coefficient $A_n$ such that $x(t) = \\sum_{n=0}^\\infty 2|A_n|\\cos(\\omega_n t + \\angle A_n)$\n",
    "- Again prove your coefficients are correct by using a loop to sum over many values of $n$ and plotting the resulting signal.\n",
    "- Plot the magnitude and phase of $A_n$ as a function of frequency $f_n$\n",
    "\n",
    "### Signal 1\n",
    "<img src=\"./imgs/fig003.png\" width=800 />\n",
    "\n",
    "### Signal 2\n",
    "<img src=\"./imgs/fig004.png\" width=800 />\n",
    "\n",
    "### Signal 3\n",
    "<img src=\"./imgs/fig005.png\" width=800 />\n",
    "\n",
    "### Signal 4\n",
    "<img src=\"./imgs/fig006.png\" width=800 />\n",
    "Note that the signal is $x(t) = t^2$ for $-1<t<1$"
   ]
  }
 ],
 "metadata": {
  "kernelspec": {
   "display_name": "Python 3 (ipykernel)",
   "language": "python",
   "name": "python3"
  },
  "language_info": {
   "codemirror_mode": {
    "name": "ipython",
    "version": 3
   },
   "file_extension": ".py",
   "mimetype": "text/x-python",
   "name": "python",
   "nbconvert_exporter": "python",
   "pygments_lexer": "ipython3",
   "version": "3.11.4"
  }
 },
 "nbformat": 4,
 "nbformat_minor": 5
}
