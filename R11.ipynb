{
 "cells": [
  {
   "cell_type": "markdown",
   "metadata": {},
   "source": [
    "## Week 11\n",
    "\n",
    "For each problem below, convolve $x[n]$ and $h[n]$ by hand, and then compare the DTFT magnitude\n",
    "plots of $X(\\Omega)$, $H(\\Omega)$, and $Y(\\Omega)$. In each case, does $h[n]$\n",
    "represent a low or high pass filter? Does the signal $x[n]$ pass through the filter or get rejected? Why?\n",
    "\n",
    "- $x[n] = [1,\\ 1,\\ 1]$       , &emsp; $h[n] = [1,\\ -1]$\n",
    "- $x[n] = [1,\\ 0,\\ -1,\\ 0]$  , &emsp; $h[n] = [1,\\  1]$\n",
    "- $x[n] = [1,\\ 0,\\ -1,\\ 0]$  , &emsp; $h[n] = [1,\\ -1]$\n",
    "- $x[n] = [1,\\ -1,\\ 1,\\ -1]$ , &emsp; $h[n] = [1,\\  1]$\n"
   ]
  }
 ],
 "metadata": {
  "language_info": {
   "name": "python"
  }
 },
 "nbformat": 4,
 "nbformat_minor": 2
}
