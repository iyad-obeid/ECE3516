{
 "cells": [
  {
   "cell_type": "markdown",
   "id": "d604d0c0-e4b0-456b-827e-7d9615cb1440",
   "metadata": {},
   "source": [
    "## Project 4\n",
    "\n",
    "The purpose of this project is to design and apply a set of digital bandbass\n",
    "filters for decoding a telephone DTMF signal. Telephone dialtones and buttons\n",
    "use combinations of frequencies to encode their identities. You can read more\n",
    "[here](https://en.wikipedia.org/wiki/DTMF_signaling).\n",
    "\n",
    "\n",
    "### Data\n",
    "You are given this file, which is an audio (`.wav`) file with the audio of a\n",
    "phone number being dialed. The sampling frequency is $F_s=44.1$ kHz. The link to\n",
    "the data file is [here](./files/dialtone_with_dtmf.wav).\n",
    "\n",
    "### Filter Design\n",
    "You will need to design a number of discrete-time bandpass filters (FIR or IIR)\n",
    "in order to determine which tones are present at which times, and therefore what\n",
    "phone number has been dialed. You can experiment with different kinds of digital\n",
    "filters and use whatever works best as long as it can be applied to the audio\n",
    "signal using the `lfilter` command. Your filters should a reasonable number of\n",
    "filter taps.\n",
    "\n",
    "### What to Demonstrate\n",
    "\n",
    "- Transfer functions and Bode plots for your filters\n",
    "- An in-depth understanding of what types of filters you used, how you designed\n",
    "  the filters, how many taps, IIR vs FIR, etc.\n",
    "- A demonstration showing the filters working individually and together to\n",
    "  decode the phone number.\n",
    "\n",
    "### A Note about Chat\n",
    "You could probably knock out this assignment in five minutes using ChatGPT.\n",
    "Don't be that person. There are plenty of tools built into SciPy to help you\n",
    "design filters quickly and efficiently. Rely on those. Read the documentation\n",
    "when you don't understand how to use SciPy. Please don't regurgitate some answer\n",
    "from Chat ... it's a waste of both of our time.\n",
    "\n",
    "Good luck!"
   ]
  }
 ],
 "metadata": {
  "kernelspec": {
   "display_name": "Python 3 (ipykernel)",
   "language": "python",
   "name": "python3"
  },
  "language_info": {
   "codemirror_mode": {
    "name": "ipython",
    "version": 3
   },
   "file_extension": ".py",
   "mimetype": "text/x-python",
   "name": "python",
   "nbconvert_exporter": "python",
   "pygments_lexer": "ipython3",
   "version": "3.11.4"
  }
 },
 "nbformat": 4,
 "nbformat_minor": 5
}
